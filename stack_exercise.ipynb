{
 "cells": [
  {
   "cell_type": "code",
   "execution_count": 1,
   "id": "44f3e8cb",
   "metadata": {},
   "outputs": [],
   "source": [
    "from collections import deque"
   ]
  },
  {
   "cell_type": "code",
   "execution_count": 2,
   "id": "6df78a48",
   "metadata": {},
   "outputs": [],
   "source": [
    "class Stack:\n",
    "    def __init__(self):\n",
    "        self.container = deque()\n",
    "    \n",
    "    def push(self, val):\n",
    "        self.container.append(val)\n",
    "    \n",
    "    def peek(self):\n",
    "        return self.container[-1]\n",
    "    \n",
    "    def pop(self):\n",
    "        return self.container.pop()\n",
    "    \n",
    "    def is_empty(self):\n",
    "        return len(self.container) == 0\n",
    "\n",
    "    def size(self):\n",
    "        return len(self.container)"
   ]
  },
  {
   "cell_type": "code",
   "execution_count": 3,
   "id": "50467a89",
   "metadata": {},
   "outputs": [],
   "source": [
    "stack1 = Stack()"
   ]
  },
  {
   "cell_type": "code",
   "execution_count": 4,
   "id": "aadfacc2",
   "metadata": {},
   "outputs": [],
   "source": [
    "stack1.push(90)"
   ]
  },
  {
   "cell_type": "code",
   "execution_count": 5,
   "id": "e6dbcd0d",
   "metadata": {},
   "outputs": [],
   "source": [
    "stack1.push(9898)"
   ]
  },
  {
   "cell_type": "code",
   "execution_count": 6,
   "id": "6a1c6636",
   "metadata": {},
   "outputs": [
    {
     "data": {
      "text/plain": [
       "9898"
      ]
     },
     "execution_count": 6,
     "metadata": {},
     "output_type": "execute_result"
    }
   ],
   "source": [
    "stack1.peek()"
   ]
  },
  {
   "cell_type": "markdown",
   "id": "c76c2de6",
   "metadata": {},
   "source": [
    "#### Write a function in python that can reverse a string using stack data structure. Use Stack class from the tutorial."
   ]
  },
  {
   "cell_type": "code",
   "execution_count": 64,
   "id": "30d98d2a",
   "metadata": {},
   "outputs": [],
   "source": [
    "str1 = \"Tejas is my name!\""
   ]
  },
  {
   "cell_type": "code",
   "execution_count": 65,
   "id": "b3162e83",
   "metadata": {},
   "outputs": [],
   "source": [
    "stack2 = Stack()"
   ]
  },
  {
   "cell_type": "code",
   "execution_count": 66,
   "id": "2cfffc1a",
   "metadata": {},
   "outputs": [],
   "source": [
    "for s in str1:\n",
    "    stack2.push(s)"
   ]
  },
  {
   "cell_type": "code",
   "execution_count": 67,
   "id": "7a383bfc",
   "metadata": {},
   "outputs": [],
   "source": [
    "str2 = \"\""
   ]
  },
  {
   "cell_type": "code",
   "execution_count": 68,
   "id": "b1f07308",
   "metadata": {},
   "outputs": [
    {
     "data": {
      "text/plain": [
       "17"
      ]
     },
     "execution_count": 68,
     "metadata": {},
     "output_type": "execute_result"
    }
   ],
   "source": [
    "stack2.size()"
   ]
  },
  {
   "cell_type": "code",
   "execution_count": 69,
   "id": "96486342",
   "metadata": {},
   "outputs": [],
   "source": [
    "# for s in range(stack2.size()):\n",
    "#     str2 += stack2.pop()\n",
    "\n",
    "while not stack2.is_empty():\n",
    "    str2 += stack2.pop()  "
   ]
  },
  {
   "cell_type": "code",
   "execution_count": 70,
   "id": "a85d4189",
   "metadata": {
    "scrolled": true
   },
   "outputs": [
    {
     "name": "stdout",
     "output_type": "stream",
     "text": [
      "!eman ym si sajeT\n"
     ]
    }
   ],
   "source": [
    "print(str2)"
   ]
  },
  {
   "cell_type": "markdown",
   "id": "950a07ce",
   "metadata": {},
   "source": [
    "### Write a function in python that checks if paranthesis in the string are balanced or not. Possible parantheses are \"{}',\"()\" or \"[]\". Use Stack class from the tutorial.\n"
   ]
  },
  {
   "cell_type": "code",
   "execution_count": 71,
   "id": "97652156",
   "metadata": {},
   "outputs": [],
   "source": [
    "def is_matched(ch1, ch2):\n",
    "    match_dict = {\n",
    "        '(': ')',\n",
    "        '{': '}',\n",
    "        '[': ']'\n",
    "    }\n",
    "    \n",
    "    return match_dict[ch1] == ch2"
   ]
  },
  {
   "cell_type": "code",
   "execution_count": 73,
   "id": "eea887d4",
   "metadata": {},
   "outputs": [
    {
     "name": "stdout",
     "output_type": "stream",
     "text": [
      "True\n",
      "False\n",
      "False\n"
     ]
    }
   ],
   "source": [
    "print(is_matched('(', ')'))\n",
    "print(is_matched('(', '}'))\n",
    "print(is_matched('[', ')'))"
   ]
  },
  {
   "cell_type": "code",
   "execution_count": 74,
   "id": "47dc6b93",
   "metadata": {},
   "outputs": [],
   "source": [
    "def is_balanced(s):\n",
    "    stack = Stack()\n",
    "    for ch in s:\n",
    "        if ch=='(' or ch=='{' or ch=='[':\n",
    "            stack.push(ch)\n",
    "        if ch==')' or ch=='}' or ch==']':\n",
    "            if stack.size()==0:\n",
    "                return False\n",
    "            if not is_matched(stack.pop(), ch):\n",
    "                return False\n",
    "    return stack.size()==0"
   ]
  },
  {
   "cell_type": "code",
   "execution_count": 76,
   "id": "95d15878",
   "metadata": {},
   "outputs": [
    {
     "name": "stdout",
     "output_type": "stream",
     "text": [
      "True\n",
      "False\n",
      "True\n",
      "True\n",
      "False\n",
      "True\n",
      "False\n"
     ]
    }
   ],
   "source": [
    "print(is_balanced(\"({a+b})\"))\n",
    "print(is_balanced(\"))((a+b}{\"))\n",
    "print(is_balanced(\"((a+b))\"))\n",
    "print(is_balanced(\"((a+g))\"))\n",
    "print(is_balanced(\"))\"))\n",
    "print(is_balanced(\"[a+b]*(x+2y)*{gg+kk}\"))\n",
    "print(is_balanced(\"}{\"))\n"
   ]
  },
  {
   "cell_type": "code",
   "execution_count": null,
   "id": "5143bc75",
   "metadata": {},
   "outputs": [],
   "source": []
  }
 ],
 "metadata": {
  "kernelspec": {
   "display_name": "Python 3",
   "language": "python",
   "name": "python3"
  },
  "language_info": {
   "codemirror_mode": {
    "name": "ipython",
    "version": 3
   },
   "file_extension": ".py",
   "mimetype": "text/x-python",
   "name": "python",
   "nbconvert_exporter": "python",
   "pygments_lexer": "ipython3",
   "version": "3.8.8"
  }
 },
 "nbformat": 4,
 "nbformat_minor": 5
}
