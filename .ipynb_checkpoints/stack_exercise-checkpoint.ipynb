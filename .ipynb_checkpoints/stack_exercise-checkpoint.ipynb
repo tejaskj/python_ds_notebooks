{
 "cells": [
  {
   "cell_type": "code",
   "execution_count": 1,
   "id": "b1dba92e",
   "metadata": {},
   "outputs": [],
   "source": [
    "from collections import deque"
   ]
  },
  {
   "cell_type": "code",
   "execution_count": 2,
   "id": "9ae5fcbe",
   "metadata": {},
   "outputs": [],
   "source": [
    "class Stack:\n",
    "    def __init__(self):\n",
    "        self.container = deque()\n",
    "    \n",
    "    def push(self, val):\n",
    "        self.container.append(val)\n",
    "    \n",
    "    def peek(self):\n",
    "        return self.container[-1]\n",
    "    \n",
    "    def pop(self):\n",
    "        return self.container.pop()\n",
    "    \n",
    "    def is_empty(self):\n",
    "        return len(self.container) == 0\n",
    "\n",
    "    def size(self):\n",
    "        return len(self.container)"
   ]
  },
  {
   "cell_type": "code",
   "execution_count": 3,
   "id": "316e5abd",
   "metadata": {},
   "outputs": [],
   "source": [
    "stack1 = Stack()"
   ]
  },
  {
   "cell_type": "code",
   "execution_count": 4,
   "id": "8d5ab55a",
   "metadata": {},
   "outputs": [],
   "source": [
    "stack1.push(90)"
   ]
  },
  {
   "cell_type": "code",
   "execution_count": 5,
   "id": "38a61586",
   "metadata": {},
   "outputs": [],
   "source": [
    "stack1.push(9898)"
   ]
  },
  {
   "cell_type": "code",
   "execution_count": 6,
   "id": "c7fec9fd",
   "metadata": {},
   "outputs": [
    {
     "data": {
      "text/plain": [
       "9898"
      ]
     },
     "execution_count": 6,
     "metadata": {},
     "output_type": "execute_result"
    }
   ],
   "source": [
    "stack1.peek()"
   ]
  },
  {
   "cell_type": "markdown",
   "id": "c6ec8d34",
   "metadata": {},
   "source": [
    "#### Write a function in python that can reverse a string using stack data structure. Use Stack class from the tutorial."
   ]
  },
  {
   "cell_type": "code",
   "execution_count": 64,
   "id": "4970544c",
   "metadata": {},
   "outputs": [],
   "source": [
    "str1 = \"Tejas is my name!\""
   ]
  },
  {
   "cell_type": "code",
   "execution_count": 65,
   "id": "5a37c6e2",
   "metadata": {},
   "outputs": [],
   "source": [
    "stack2 = Stack()"
   ]
  },
  {
   "cell_type": "code",
   "execution_count": 66,
   "id": "1bee62e5",
   "metadata": {},
   "outputs": [],
   "source": [
    "for s in str1:\n",
    "    stack2.push(s)"
   ]
  },
  {
   "cell_type": "code",
   "execution_count": 67,
   "id": "bb2a39c3",
   "metadata": {},
   "outputs": [],
   "source": [
    "str2 = \"\""
   ]
  },
  {
   "cell_type": "code",
   "execution_count": 68,
   "id": "417aad5b",
   "metadata": {},
   "outputs": [
    {
     "data": {
      "text/plain": [
       "17"
      ]
     },
     "execution_count": 68,
     "metadata": {},
     "output_type": "execute_result"
    }
   ],
   "source": [
    "stack2.size()"
   ]
  },
  {
   "cell_type": "code",
   "execution_count": 69,
   "id": "dd2386f1",
   "metadata": {},
   "outputs": [],
   "source": [
    "# for s in range(stack2.size()):\n",
    "#     str2 += stack2.pop()\n",
    "\n",
    "while not stack2.is_empty():\n",
    "    str2 += stack2.pop()  "
   ]
  },
  {
   "cell_type": "code",
   "execution_count": 70,
   "id": "0a4f6d21",
   "metadata": {
    "scrolled": true
   },
   "outputs": [
    {
     "name": "stdout",
     "output_type": "stream",
     "text": [
      "!eman ym si sajeT\n"
     ]
    }
   ],
   "source": [
    "print(str2)"
   ]
  },
  {
   "cell_type": "markdown",
   "id": "60419b1f",
   "metadata": {},
   "source": [
    "### Write a function in python that checks if paranthesis in the string are balanced or not. Possible parantheses are \"{}',\"()\" or \"[]\". Use Stack class from the tutorial.\n"
   ]
  },
  {
   "cell_type": "code",
   "execution_count": 71,
   "id": "570b6f56",
   "metadata": {},
   "outputs": [],
   "source": [
    "def is_matched(ch1, ch2):\n",
    "    match_dict = {\n",
    "        '(': ')',\n",
    "        '{': '}',\n",
    "        '[': ']'\n",
    "    }\n",
    "    \n",
    "    return match_dict[ch1] == ch2"
   ]
  },
  {
   "cell_type": "code",
   "execution_count": 73,
   "id": "bee73a03",
   "metadata": {},
   "outputs": [
    {
     "name": "stdout",
     "output_type": "stream",
     "text": [
      "True\n",
      "False\n",
      "False\n"
     ]
    }
   ],
   "source": [
    "print(is_matched('(', ')'))\n",
    "print(is_matched('(', '}'))\n",
    "print(is_matched('[', ')'))"
   ]
  },
  {
   "cell_type": "code",
   "execution_count": null,
   "id": "6ed50851",
   "metadata": {},
   "outputs": [],
   "source": [
    "def is_balanced(s):\n",
    "    stack = Stack()\n",
    "    for ch in s:\n",
    "        if ch=='(' or ch=='{' or ch=='[':\n",
    "            stack.push(ch)\n",
    "        if ch==')' or ch=='}' or ch==']':\n",
    "            if stack.size()==0:\n",
    "                return False\n",
    "            if not is_matched(stack.pop(), ch):\n",
    "                return False\n",
    "    return stack.size()==0"
   ]
  }
 ],
 "metadata": {
  "kernelspec": {
   "display_name": "Python 3",
   "language": "python",
   "name": "python3"
  },
  "language_info": {
   "codemirror_mode": {
    "name": "ipython",
    "version": 3
   },
   "file_extension": ".py",
   "mimetype": "text/x-python",
   "name": "python",
   "nbconvert_exporter": "python",
   "pygments_lexer": "ipython3",
   "version": "3.8.8"
  }
 },
 "nbformat": 4,
 "nbformat_minor": 5
}
